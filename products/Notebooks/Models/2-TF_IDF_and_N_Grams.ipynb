{
  "nbformat": 4,
  "nbformat_minor": 0,
  "metadata": {
    "colab": {
      "provenance": [],
      "toc_visible": true,
      "include_colab_link": true
    },
    "kernelspec": {
      "name": "python3",
      "display_name": "Python 3"
    },
    "language_info": {
      "name": "python"
    }
  },
  "cells": [
    {
      "cell_type": "markdown",
      "metadata": {
        "id": "view-in-github",
        "colab_type": "text"
      },
      "source": [
        "<a href=\"https://colab.research.google.com/github/SergioJF10/MLT-ESI-UCLM_CIS/blob/main/products/Notebooks/Models/2-TF_IDF_and_N_Grams.ipynb\" target=\"_parent\"><img src=\"https://colab.research.google.com/assets/colab-badge.svg\" alt=\"Open In Colab\"/></a>"
      ]
    },
    {
      "cell_type": "markdown",
      "source": [
        "# TF-IDF Vectorization and N-Grams\n",
        "In this colab, we will develop another apprach. It includes the TF-IDF vectorization applied with N-grams."
      ],
      "metadata": {
        "id": "orMUa-jpFgHq"
      }
    },
    {
      "cell_type": "code",
      "execution_count": 12,
      "metadata": {
        "id": "4ut4lrh6Exz3"
      },
      "outputs": [],
      "source": [
        "import json\n",
        "import pandas as pd\n",
        "import matplotlib.pyplot as plt\n",
        "from sklearn.feature_extraction.text import TfidfVectorizer\n",
        "from sklearn.feature_selection import SelectKBest, chi2\n",
        "from sklearn.naive_bayes import MultinomialNB\n",
        "from sklearn.metrics import f1_score, precision_score, recall_score, confusion_matrix, ConfusionMatrixDisplay\n",
        "from sklearn.tree import DecisionTreeClassifier\n",
        "from sklearn.ensemble import VotingClassifier\n",
        "from sklearn.neighbors import KNeighborsClassifier"
      ]
    },
    {
      "cell_type": "markdown",
      "source": [
        "----\n",
        "_**NOTE**: We would like to highlight that, up to this point, some algorithms and models cannot be executed in the Google Colab session with an standard account. In order to mitigate that we mainly took a decision:_\n",
        "1. _Use checkboxes to specify whether to execute a section or not._"
      ],
      "metadata": {
        "id": "OLiPmXxOKk9o"
      }
    },
    {
      "cell_type": "markdown",
      "source": [
        "# 0. Loading the Data\n",
        "From the Preprocessing notebook, we obtain the following files with the data ready to be vectorized.\n",
        "- x_train.json\n",
        "- x_test.json\n",
        "- y_train.json\n",
        "- y_test.json\n",
        "\n",
        "_Note: Please upload those four files. They can be found in the \"Data/Interim\" folder in the `products` project folder._"
      ],
      "metadata": {
        "id": "bD2vRSpH0NhC"
      }
    },
    {
      "cell_type": "code",
      "execution_count": 2,
      "metadata": {
        "id": "M0oHR73Tzw4h"
      },
      "outputs": [],
      "source": [
        "x_train = []\n",
        "x_test = []\n",
        "y_train = []\n",
        "y_test = []\n",
        "with open('x_train.json', 'r', encoding='utf-8') as x_train_file:\n",
        "  x_train = json.load(x_train_file)\n",
        "with open('x_test.json', 'r', encoding='utf-8') as x_test_file:\n",
        "  x_test = json.load(x_test_file)\n",
        "with open('y_train.json', 'r', encoding='utf-8') as y_train_file:\n",
        "  y_train = json.load(y_train_file)\n",
        "with open('y_test.json', 'r', encoding='utf-8') as y_test_file:\n",
        "  y_test = json.load(y_test_file)"
      ]
    },
    {
      "cell_type": "markdown",
      "source": [
        "Once the file descriptors have been used, we will delete them to save RAM."
      ],
      "metadata": {
        "id": "Y1Z0USzQCiSg"
      }
    },
    {
      "cell_type": "code",
      "source": [
        "del x_test_file\n",
        "del x_train_file\n",
        "del y_test_file\n",
        "del y_train_file"
      ],
      "metadata": {
        "id": "r6jhJz75CSg5"
      },
      "execution_count": 3,
      "outputs": []
    },
    {
      "cell_type": "markdown",
      "source": [
        "# 1. TF-IDF Vectorization and N-Grams\n",
        "Let's now apply vectorization techniques over the preprocessed data in order to prepare the input for the models.\n",
        "\n",
        "We apply the TFIDF vectorization over both, the train and the test sets according to the vocabulary from all the documents.\n",
        "\n",
        "Note that in this case, we are obtaining an n_gram range from 1 to 3. It might take a while."
      ],
      "metadata": {
        "id": "urbOLVfX019D"
      }
    },
    {
      "cell_type": "code",
      "source": [
        "vectorizer = TfidfVectorizer(ngram_range=(1,3),use_idf=True, smooth_idf=True).fit(x_train + x_test)\n",
        "x_train_tfidf = vectorizer.transform(x_train)\n",
        "x_test_tfidf = vectorizer.transform(x_test)\n",
        "x_train_tfidf"
      ],
      "metadata": {
        "id": "2XxSxQZt04pJ",
        "colab": {
          "base_uri": "https://localhost:8080/"
        },
        "outputId": "034366a1-5a5a-4adc-94c8-3803009d08af"
      },
      "execution_count": 4,
      "outputs": [
        {
          "output_type": "execute_result",
          "data": {
            "text/plain": [
              "<35414x2088251 sparse matrix of type '<class 'numpy.float64'>'\n",
              "\twith 2963946 stored elements in Compressed Sparse Row format>"
            ]
          },
          "metadata": {},
          "execution_count": 4
        }
      ]
    },
    {
      "cell_type": "markdown",
      "metadata": {
        "id": "5dILuFtrpDkK"
      },
      "source": [
        "Once we have obtained the TFIDF vectorization, we have to get rid of a 70% of the total features, so, we need the best 30% of the whole list of features, let's call it $k$."
      ]
    },
    {
      "cell_type": "code",
      "source": [
        "k = int(0.3*x_train_tfidf.shape[1])\n",
        "k"
      ],
      "metadata": {
        "colab": {
          "base_uri": "https://localhost:8080/"
        },
        "id": "oWgNZtne13o9",
        "outputId": "85f5435c-70ea-48a4-e732-0c626a3c3f9c"
      },
      "execution_count": 5,
      "outputs": [
        {
          "output_type": "execute_result",
          "data": {
            "text/plain": [
              "626475"
            ]
          },
          "metadata": {},
          "execution_count": 5
        }
      ]
    },
    {
      "cell_type": "markdown",
      "metadata": {
        "id": "SvcVAap_pDkK"
      },
      "source": [
        "Let's now select the most important features for bot train and test sets."
      ]
    },
    {
      "cell_type": "code",
      "source": [
        "selector = SelectKBest(score_func=chi2, k=k)\n",
        "x_train_tfidf = selector.fit_transform(x_train_tfidf, y_train)\n",
        "x_test_tfidf = selector.transform(x_test_tfidf)\n",
        "x_train_tfidf.shape[1]"
      ],
      "metadata": {
        "colab": {
          "base_uri": "https://localhost:8080/"
        },
        "id": "DJB7LgMn14T7",
        "outputId": "3dc8a7c3-5560-42bc-bfa7-98ed8cc01dae"
      },
      "execution_count": 6,
      "outputs": [
        {
          "output_type": "execute_result",
          "data": {
            "text/plain": [
              "626475"
            ]
          },
          "metadata": {},
          "execution_count": 6
        }
      ]
    },
    {
      "cell_type": "markdown",
      "metadata": {
        "id": "j--xcE2FpDkK"
      },
      "source": [
        "We should highlight that, originally, the different results should be stored in different variables but, due to the huge memory consumed per each variable, we will use just one variable."
      ]
    },
    {
      "cell_type": "markdown",
      "source": [
        "### Undersampling\n",
        "_Note: In a normal Google Colab session, we cannot execute both, n-grams + tf-idf with undersampling. This might make the results a bit worse._\n",
        "\n",
        "_For executing the undersampling, just mark the checkbox and run the below cells_."
      ],
      "metadata": {
        "id": "pqOmtKjz3qit"
      }
    },
    {
      "cell_type": "code",
      "source": [
        "exec_undersampling = True #@param {type:\"boolean\"}"
      ],
      "metadata": {
        "id": "3aCQ7jSZNIjb"
      },
      "execution_count": 7,
      "outputs": []
    },
    {
      "cell_type": "markdown",
      "source": [
        "Let's now try to apply an undersampling technique to compensate the labels."
      ],
      "metadata": {
        "id": "CpuJNCjwNF0h"
      }
    },
    {
      "cell_type": "code",
      "source": [
        "if exec_undersampling: \n",
        "  # ram option selected\n",
        "  x_train_df = pd.DataFrame(x_train_tfidf.toarray())\n",
        "  x_train_df['label'] = y_train\n",
        "\n",
        "  n = int(22111 * 0.3) # undersampling rate\n",
        "  msk = x_train_df.groupby('label')['label'].transform('size') >= n\n",
        "  x_train_df = pd.concat((x_train_df[msk].groupby('label').sample(n=n), x_train_df[~msk]), ignore_index=True)\n",
        "  print(x_train_df['label'].value_counts())"
      ],
      "metadata": {
        "id": "89rPCEi_3v4u"
      },
      "execution_count": 19,
      "outputs": []
    },
    {
      "cell_type": "markdown",
      "source": [
        "Once the mask have been used, we can delete it to save RAM usage.\n",
        "\n",
        "We will also remove the x_train and x_test variables, since they have been properly loaded and vectorized, so we can erase them.\n",
        "\n",
        "Due to a similar reason, we can remove also the x_train_tfidf variable."
      ],
      "metadata": {
        "id": "xyYKVvJvCqUm"
      }
    },
    {
      "cell_type": "code",
      "source": [
        "if exec_undersampling:\n",
        "  # ram option selected\n",
        "  del msk\n",
        "  del x_train_tfidf\n",
        "  del x_train\n",
        "  del x_test"
      ],
      "metadata": {
        "id": "ZW8Ru9KxC49q"
      },
      "execution_count": 9,
      "outputs": []
    },
    {
      "cell_type": "markdown",
      "metadata": {
        "id": "rCcywkjb5k_r"
      },
      "source": [
        "### Naive Bayes\n",
        "Now, it's time to train our first model, a Naive Bayes model with a Multinomial approach, since it is the most appropriate for our case."
      ]
    },
    {
      "cell_type": "code",
      "execution_count": 10,
      "metadata": {
        "id": "YE54AnWspDkL"
      },
      "outputs": [],
      "source": [
        "if exec_undersampling:\n",
        "  # ram option selected\n",
        "  mngb_model = MultinomialNB().fit(x_train_df.drop('label', axis=1), x_train_df['label'])\n",
        "else:\n",
        "  mngb_model = MultinomialNB().fit(x_train_tfidf, y_train)\n",
        "preds = mngb_model.predict(x_test_tfidf)"
      ]
    },
    {
      "cell_type": "markdown",
      "source": [
        "It is important to remember the considerable imbalance observed in the data. Due to this reason, we will use f1 score instead of the accuracy for evaluating the model."
      ],
      "metadata": {
        "id": "feZD3lSIznBF"
      }
    },
    {
      "cell_type": "code",
      "execution_count": 13,
      "metadata": {
        "colab": {
          "base_uri": "https://localhost:8080/",
          "height": 348
        },
        "id": "HSlcB7m_pDkL",
        "outputId": "f2a9a011-a37c-4662-ede8-272685695d57"
      },
      "outputs": [
        {
          "output_type": "stream",
          "name": "stdout",
          "text": [
            "EVALUATION METRICS\n",
            "F1 Score for the model: 0.6154302279615232\n",
            "Precision for the model: 0.6154302279615232\n",
            "Recall for the model: 0.6154302279615232\n"
          ]
        },
        {
          "output_type": "display_data",
          "data": {
            "text/plain": [
              "<Figure size 432x288 with 2 Axes>"
            ],
            "image/png": "[encoded data removed]"
          },
          "metadata": {
            "needs_background": "light"
          }
        }
      ],
      "source": [
        "print('EVALUATION METRICS')\n",
        "print(f'F1 Score for the model: {f1_score(y_test, preds, average=\"micro\")}')\n",
        "print(f'Precision for the model: {precision_score(y_test, preds, average=\"micro\")}')\n",
        "print(f'Recall for the model: {recall_score(y_test, preds, average=\"micro\")}')\n",
        "cm = confusion_matrix(y_test, list(preds), labels=mngb_model.classes_)\n",
        "disp = ConfusionMatrixDisplay(confusion_matrix=cm, display_labels=mngb_model.classes_) \n",
        "disp.plot()\n",
        "plt.show()"
      ]
    },
    {
      "cell_type": "markdown",
      "metadata": {
        "id": "xrjD4u4hpzSR"
      },
      "source": [
        "\n",
        "We apply the TFIDF vectorization over both, the train and the test sets according to the vocabulary from all the documents. As we can see, initially, we have a precission of 61%, but the main problem comes from the huge unbalance in the data."
      ]
    },
    {
      "cell_type": "markdown",
      "source": [
        "### Decision Tree\n",
        "As we are asked to apply two models, the second one will be a decision tree. For this model, we will also try to optimize the hyperparametrization aiming to improve the accuracy."
      ],
      "metadata": {
        "id": "FgScdCFwyZSk"
      }
    },
    {
      "cell_type": "code",
      "source": [
        "dt_model = DecisionTreeClassifier(min_samples_leaf=1, max_depth=8, criterion='entropy')\n",
        "if exec_undersampling:\n",
        "  # ram option selected\n",
        "  dt_model.fit(x_train_df.drop('label', axis=1), x_train_df['label'])\n",
        "else:\n",
        "  dt_model.fit(x_train_tfidf, y_train)\n",
        "preds = dt_model.predict(x_test_tfidf)"
      ],
      "metadata": {
        "id": "X1FvhV5Yynng"
      },
      "execution_count": 14,
      "outputs": []
    },
    {
      "cell_type": "markdown",
      "source": [
        "Now, the same as with Naive Bayes classifier, we will check the confusion matrix as well as the f1 score."
      ],
      "metadata": {
        "id": "ZemAUNqiDQKk"
      }
    },
    {
      "cell_type": "code",
      "source": [
        "print('EVALUATION METRICS')\n",
        "print(f'F1 Score for the model: {f1_score(y_test, preds, average=\"micro\")}')\n",
        "print(f'Precision for the model: {precision_score(y_test, preds, average=\"micro\")}')\n",
        "print(f'Recall for the model: {recall_score(y_test, preds, average=\"micro\")}')\n",
        "cm = confusion_matrix(y_test, list(preds), labels=mngb_model.classes_)\n",
        "disp = ConfusionMatrixDisplay(confusion_matrix=cm, display_labels=mngb_model.classes_) \n",
        "disp.plot()\n",
        "plt.show()"
      ],
      "metadata": {
        "colab": {
          "base_uri": "https://localhost:8080/",
          "height": 348
        },
        "id": "ZOuEvUDCDWPo",
        "outputId": "026bb81e-7f84-40e3-ad53-cf9a3985c5fc"
      },
      "execution_count": 15,
      "outputs": [
        {
          "output_type": "stream",
          "name": "stdout",
          "text": [
            "EVALUATION METRICS\n",
            "F1 Score for the model: 0.6271577282909474\n",
            "Precision for the model: 0.6271577282909474\n",
            "Recall for the model: 0.6271577282909474\n"
          ]
        },
        {
          "output_type": "display_data",
          "data": {
            "text/plain": [
              "<Figure size 432x288 with 2 Axes>"
            ],
            "image/png": "[encoded data removed]"
          },
          "metadata": {
            "needs_background": "light"
          }
        }
      ]
    },
    {
      "cell_type": "markdown",
      "source": [
        "## Voting Classifier\n",
        "\n",
        "_**NOTE**: Again, due to the lack of RAM memory in an standard Google Colab account, we couldn't execute this in the notebook. We tested it in our own machines with a Python script._\n",
        "\n",
        "_Locally, we got a $0.4833$ of accuracy with the F1 Score metric when applying the Voting classifier with undersampled data._\n",
        "\n",
        "_Anyway, we indicate here the code for further possible executions with better accounts._\n",
        "\n",
        "----\n",
        "\n",
        "Aiming to improve the accuracy, we will try to apply an ensemling model, specifically a Voting Classifier.\n",
        "\n",
        "First, we add a new model based on K Nearest Neighbors to complete the ensembler model."
      ],
      "metadata": {
        "id": "cGRZKBVMm1IL"
      }
    },
    {
      "cell_type": "code",
      "source": [
        "# kNN\n",
        "knn_model = KNeighborsClassifier(n_neighbors=16, weights='uniform', metric='minkowski', p=1)"
      ],
      "metadata": {
        "id": "C9WgNG2Fm2qI"
      },
      "execution_count": 16,
      "outputs": []
    },
    {
      "cell_type": "markdown",
      "source": [
        "Now we build the Voting Classifier model, using the models we have previously used."
      ],
      "metadata": {
        "id": "DDMtiTMUnBE-"
      }
    },
    {
      "cell_type": "code",
      "source": [
        "voting_model = VotingClassifier(estimators=[('mnb', mngb_model), ('dt', dt_model), ('knn', knn_model)], voting='soft')\n",
        "if exec_undersampling:\n",
        "  # ram option selected\n",
        "  voting_model.fit(x_train_df.drop('label', axis=1), x_train_df['label'])\n",
        "else:\n",
        "  voting_model.fit(x_train_tfidf, y_train)\n",
        "preds = mngb_model.predict(x_test_tfidf)\n",
        "\n",
        "preds = voting_model.predict(x_test_tfidf)"
      ],
      "metadata": {
        "id": "KXpncFI4m7R4"
      },
      "execution_count": 21,
      "outputs": []
    },
    {
      "cell_type": "markdown",
      "source": [
        "Let's check the confusion matrix and its accuracy as we did with the previous models."
      ],
      "metadata": {
        "id": "FkTUyH56nCmq"
      }
    },
    {
      "cell_type": "code",
      "source": [
        "print('EVALUATION METRICS')\n",
        "print(f'F1 Score for the model: {f1_score(y_test, preds, average=\"micro\")}')\n",
        "print(f'Precision for the model: {precision_score(y_test, preds, average=\"micro\")}')\n",
        "print(f'Recall for the model: {recall_score(y_test, preds, average=\"micro\")}')\n",
        "cm = confusion_matrix(y_test, list(preds), labels=mngb_model.classes_)\n",
        "disp = ConfusionMatrixDisplay(confusion_matrix=cm, display_labels=mngb_model.classes_) \n",
        "disp.plot()\n",
        "plt.show()"
      ],
      "metadata": {
        "id": "3aQJ49u1m7wh",
        "outputId": "e398b2e0-b05f-4e28-e45f-1d2b99f4491e",
        "colab": {
          "base_uri": "https://localhost:8080/",
          "height": 348
        }
      },
      "execution_count": 22,
      "outputs": [
        {
          "output_type": "stream",
          "name": "stdout",
          "text": [
            "EVALUATION METRICS\n",
            "F1 Score for the model: 0.6154302279615232\n",
            "Precision for the model: 0.6154302279615232\n",
            "Recall for the model: 0.6154302279615232\n"
          ]
        },
        {
          "output_type": "display_data",
          "data": {
            "text/plain": [
              "<Figure size 432x288 with 2 Axes>"
            ],
            "image/png": "[encoded data removed]"
          },
          "metadata": {
            "needs_background": "light"
          }
        }
      ]
    }
  ]
}