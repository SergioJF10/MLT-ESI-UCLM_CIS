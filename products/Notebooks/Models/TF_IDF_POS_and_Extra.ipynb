{
  "nbformat": 4,
  "nbformat_minor": 0,
  "metadata": {
    "colab": {
      "provenance": [],
      "toc_visible": true,
      "include_colab_link": true
    },
    "kernelspec": {
      "name": "python3",
      "display_name": "Python 3"
    },
    "language_info": {
      "name": "python"
    }
  },
  "cells": [
    {
      "cell_type": "markdown",
      "metadata": {
        "id": "view-in-github",
        "colab_type": "text"
      },
      "source": [
        "<a href=\"https://colab.research.google.com/github/SergioJF10/MLT-ESI-UCLM_CIS/blob/main/products/Notebooks/Models/TF_IDF_POS_and_Extra.ipynb\" target=\"_parent\"><img src=\"https://colab.research.google.com/assets/colab-badge.svg\" alt=\"Open In Colab\"/></a>"
      ]
    },
    {
      "cell_type": "markdown",
      "source": [
        "# TF-IDF Vectorization, POS Tagging and Extra Features\n",
        "In this colab, we will develop the fourth and final approach, including the TF-IDF vectorization, with POS tagging and two extra features:\n",
        "1. Number of words in an opinion.\n",
        "2. Number of sentences in an opinion.\n",
        "\n",
        "Again, we want to highlight that we did not include the N-grams due to its high memory demanding aspect."
      ],
      "metadata": {
        "id": "8JEutNaWNkU2"
      }
    },
    {
      "cell_type": "code",
      "execution_count": null,
      "metadata": {
        "id": "wUsgHuDSJxmQ"
      },
      "outputs": [],
      "source": [
        "%%capture\n",
        "!pip install nltk\n",
        "import nltk\n",
        "nltk.download(\"popular\")\n",
        "import json\n",
        "from tqdm import tqdm\n",
        "import pandas as pd\n",
        "import matplotlib.pyplot as plt\n",
        "from sklearn.feature_extraction.text import TfidfVectorizer\n",
        "from sklearn.feature_selection import SelectKBest, chi2\n",
        "from sklearn.naive_bayes import MultinomialNB\n",
        "from sklearn.metrics import f1_score, confusion_matrix, ConfusionMatrixDisplay\n",
        "from sklearn.tree import DecisionTreeClassifier\n",
        "from sklearn.ensemble import VotingClassifier\n",
        "from sklearn.neighbors import KNeighborsClassifier"
      ]
    },
    {
      "cell_type": "code",
      "source": [
        "from google.colab import drive\n",
        "drive.mount('/content/gdrive')\n",
        "\n",
        "!cp '/content/gdrive/MyDrive/Colab Notebooks/Machine Learning Tecniques/Natural Language Processing/products.csv' 'products.csv'\n",
        "!cp '/content/gdrive/MyDrive/Colab Notebooks/Machine Learning Tecniques/Natural Language Processing/x_train.json' 'x_train.json'\n",
        "!cp '/content/gdrive/MyDrive/Colab Notebooks/Machine Learning Tecniques/Natural Language Processing/y_train.json' 'y_train.json'\n",
        "!cp '/content/gdrive/MyDrive/Colab Notebooks/Machine Learning Tecniques/Natural Language Processing/x_test.json' 'x_test.json'\n",
        "!cp '/content/gdrive/MyDrive/Colab Notebooks/Machine Learning Tecniques/Natural Language Processing/y_test.json' 'y_test.json'"
      ],
      "metadata": {
        "colab": {
          "base_uri": "https://localhost:8080/"
        },
        "id": "3qtyY-gOOM0T",
        "outputId": "a62476e6-3e41-40bf-b321-ea2be1d632e8"
      },
      "execution_count": null,
      "outputs": [
        {
          "output_type": "stream",
          "name": "stdout",
          "text": [
            "Mounted at /content/gdrive\n",
            "cp: cannot stat '/content/gdrive/MyDrive/Colab Notebooks/Machine Learning Tecniques/Natural Language Processing/products.csv': No such file or directory\n",
            "cp: cannot stat '/content/gdrive/MyDrive/Colab Notebooks/Machine Learning Tecniques/Natural Language Processing/x_train.json': No such file or directory\n",
            "cp: cannot stat '/content/gdrive/MyDrive/Colab Notebooks/Machine Learning Tecniques/Natural Language Processing/y_train.json': No such file or directory\n",
            "cp: cannot stat '/content/gdrive/MyDrive/Colab Notebooks/Machine Learning Tecniques/Natural Language Processing/x_test.json': No such file or directory\n",
            "cp: cannot stat '/content/gdrive/MyDrive/Colab Notebooks/Machine Learning Tecniques/Natural Language Processing/y_test.json': No such file or directory\n"
          ]
        }
      ]
    },
    {
      "cell_type": "markdown",
      "source": [
        "# 0. Loading the Data\n",
        "From the Preprocessing notebook, we obtain the following files with the data ready to be vectorized.\n",
        "- x_train.json\n",
        "- x_test.json\n",
        "- y_train.json\n",
        "- y_test.json\n",
        "- word_count.json\n",
        "- sents_count.json\n",
        "\n",
        "_Note: Please upload those six files. They can be found in the \"Data/Interim\" folder in the `products` project folder._"
      ],
      "metadata": {
        "id": "bD2vRSpH0NhC"
      }
    },
    {
      "cell_type": "code",
      "execution_count": null,
      "metadata": {
        "id": "M0oHR73Tzw4h"
      },
      "outputs": [],
      "source": [
        "x_train = []\n",
        "x_test = []\n",
        "y_train = []\n",
        "y_test = []\n",
        "word_count = []\n",
        "sents_count = []\n",
        "with open('x_train.json', 'r', encoding='utf-8') as x_train_file:\n",
        "  x_train = json.load(x_train_file)\n",
        "with open('x_test.json', 'r', encoding='utf-8') as x_test_file:\n",
        "  x_test = json.load(x_test_file)\n",
        "with open('y_train.json', 'r', encoding='utf-8') as y_train_file:\n",
        "  y_train = json.load(y_train_file)\n",
        "with open('y_test.json', 'r', encoding='utf-8') as y_test_file:\n",
        "  y_test = json.load(y_test_file)\n",
        "with open('word_count.json', 'r', encoding='utf-8') as word_file:\n",
        "  word_count = json.load(word_file)\n",
        "with open('sents_count.json', 'r', encoding='utf-8') as sent_file:\n",
        "  sent_count = json.load(sent_file)"
      ]
    },
    {
      "cell_type": "markdown",
      "source": [
        "Once the file descriptors have been used, we will delete them to save RAM."
      ],
      "metadata": {
        "id": "Y1Z0USzQCiSg"
      }
    },
    {
      "cell_type": "code",
      "source": [
        "del x_test_file\n",
        "del x_train_file\n",
        "del y_test_file\n",
        "del y_train_file\n",
        "del word_file\n",
        "del sent_file"
      ],
      "metadata": {
        "id": "r6jhJz75CSg5"
      },
      "execution_count": null,
      "outputs": []
    },
    {
      "cell_type": "markdown",
      "source": [
        "Another step is to split correctly the word and sentence count arrays. If we remember, in the NLP [preprocessing colab](https://colab.research.google.com/github/SergioJF10/MLT-ESI-UCLM_CIS/blob/main/products/Notebooks/NLP/NLP_products.ipynb#scrollTo=WnzTadlOEGas) we used the [train_test_split()](https://scikit-learn.org/stable/modules/generated/sklearn.model_selection.train_test_split.html) with `shuffle = False`, which means that the data will be returned in the same order as input but splitted.\n",
        "\n",
        "So now, we can just split the arrays with the code above and we have obtained the train and test arrays in the correct order to be matched with X data."
      ],
      "metadata": {
        "id": "2C_h3YCmULEO"
      }
    },
    {
      "cell_type": "code",
      "source": [
        "word_train = word_count[:len(x_train)]\n",
        "word_test = word_count[len(x_train):]\n",
        "\n",
        "sent_train = sent_count[:len(x_train)]\n",
        "sent_test = sent_count[len(x_train):]"
      ],
      "metadata": {
        "id": "Y5-AqX71TKPM"
      },
      "execution_count": null,
      "outputs": []
    },
    {
      "cell_type": "markdown",
      "source": [
        "# 1. TF-IDF Vectorization, POS Tagging and Extra Features\n",
        "Let's now apply vectorization techniques over the preprocessed data in order to prepare the input for the models.\n",
        "\n",
        "We apply the TFIDF vectorization over both, the train and the test sets according to the vocabulary from all the documents."
      ],
      "metadata": {
        "id": "4qKAT5_zbelz"
      }
    },
    {
      "cell_type": "code",
      "source": [
        "vectorizer = TfidfVectorizer(use_idf=True, smooth_idf=True)\n",
        "vectorizer.fit(x_train + x_test)\n",
        "x_train_tfidf = vectorizer.transform(x_train)\n",
        "x_test_tfidf = vectorizer.transform(x_test)"
      ],
      "metadata": {
        "id": "McO0FRNLbqqt"
      },
      "execution_count": null,
      "outputs": []
    },
    {
      "cell_type": "markdown",
      "source": [
        "Once we have obtained the TFIDF vectorization, we have to get rid of a 70% of the total features, so, we need the best 30% of the whole list of features, let's call it $k$."
      ],
      "metadata": {
        "id": "3iqwFiXjn1yk"
      }
    },
    {
      "cell_type": "code",
      "execution_count": null,
      "metadata": {
        "id": "WuMs2TfcbqEE",
        "colab": {
          "base_uri": "https://localhost:8080/"
        },
        "outputId": "0a9a1f25-4fa6-4964-b38f-130471b9f39d"
      },
      "outputs": [
        {
          "output_type": "stream",
          "name": "stdout",
          "text": [
            "15542\n"
          ]
        }
      ],
      "source": [
        "k = int(0.3*x_train_tfidf.shape[1])\n",
        "print(k)"
      ]
    },
    {
      "cell_type": "markdown",
      "metadata": {
        "id": "9lEjFIPuRk6V"
      },
      "source": [
        "Let's now select the most important features for bot train and test sets."
      ]
    },
    {
      "cell_type": "code",
      "execution_count": null,
      "metadata": {
        "id": "WEm73l-nRRS8",
        "colab": {
          "base_uri": "https://localhost:8080/"
        },
        "outputId": "a1758e92-8a2a-446e-cdd7-713129776195"
      },
      "outputs": [
        {
          "output_type": "stream",
          "name": "stdout",
          "text": [
            "15542\n"
          ]
        }
      ],
      "source": [
        "selector = SelectKBest(score_func=chi2, k=k)\n",
        "x_train_tfidf = selector.fit_transform(x_train_tfidf, y_train)\n",
        "x_test_tfidf = selector.transform(x_test_tfidf)\n",
        "print(x_train_tfidf.shape[1])"
      ]
    },
    {
      "cell_type": "markdown",
      "source": [
        "Before continouing with the process, we will delete both, the selector and the vectorizer objects in order to save the maximum amount of RAM possible."
      ],
      "metadata": {
        "id": "eppyqlWyhao9"
      }
    },
    {
      "cell_type": "code",
      "source": [
        "del selector\n",
        "del vectorizer"
      ],
      "metadata": {
        "id": "pzmuwaNuhklx"
      },
      "execution_count": null,
      "outputs": []
    },
    {
      "cell_type": "markdown",
      "source": [
        "We should highlight that, originally, the different results should be stored in different variables but, due to the huge memory consumed per each variable, we will use just one variable.\n",
        "\n",
        "Now, we store both of them in a pandas dataframe to apply the pertinent transformations."
      ],
      "metadata": {
        "id": "mwVkhjLM7WFs"
      }
    },
    {
      "cell_type": "code",
      "source": [
        "x_train_tfidf = pd.DataFrame(data=x_train_tfidf.toarray())\n",
        "x_test_tfidf = pd.DataFrame(data=x_test_tfidf.toarray())"
      ],
      "metadata": {
        "id": "Mx6xmWqB4Bm1"
      },
      "execution_count": null,
      "outputs": []
    },
    {
      "cell_type": "markdown",
      "source": [
        "Wow, let's try to add some information from the **POS tagging**. In our case, the most appropriate would be the number of adjectives, since, the more adjectives in a review, the more information about the product it has.\n",
        "\n",
        "Please note that the process for both, the train and test data might take a while."
      ],
      "metadata": {
        "id": "28rx6CeRY2Lh"
      }
    },
    {
      "cell_type": "code",
      "source": [
        "pos_array = []\n",
        "\n",
        "def n_adjs(pos_tags):\n",
        "  number = 0\n",
        "  for tag in pos_tags:\n",
        "    if tag[1] == 'JJ': # Adjectives\n",
        "      number += 1\n",
        "  return number\n",
        "\n",
        "for voc in tqdm(x_train):\n",
        "  pos_tags = nltk.pos_tag(voc.split(' '))\n",
        "  pos_array.append(n_adjs(pos_tags))"
      ],
      "metadata": {
        "colab": {
          "base_uri": "https://localhost:8080/"
        },
        "id": "BIOttN2sYqQF",
        "outputId": "cf2759b1-7dc4-4a84-ecb7-00e120fec678"
      },
      "execution_count": null,
      "outputs": [
        {
          "output_type": "stream",
          "name": "stderr",
          "text": [
            "100%|██████████| 35414/35414 [01:36<00:00, 366.84it/s]\n"
          ]
        }
      ]
    },
    {
      "cell_type": "code",
      "source": [
        "pos_test = []\n",
        "for voc in tqdm(x_test):\n",
        "  pos_tags = nltk.pos_tag(voc.split(' '))\n",
        "  pos_test.append(n_adjs(pos_tags))"
      ],
      "metadata": {
        "colab": {
          "base_uri": "https://localhost:8080/"
        },
        "id": "tSff7ftaj-4t",
        "outputId": "c321c977-2c86-4ecb-a8bc-abd5df3debc2"
      },
      "execution_count": null,
      "outputs": [
        {
          "output_type": "stream",
          "name": "stderr",
          "text": [
            "100%|██████████| 15178/15178 [00:41<00:00, 363.28it/s]\n"
          ]
        }
      ]
    },
    {
      "cell_type": "markdown",
      "source": [
        "Now we simply add the new values to the dataframes."
      ],
      "metadata": {
        "id": "7TttHgLUVyIi"
      }
    },
    {
      "cell_type": "code",
      "source": [
        "x_train_tfidf['n_adjs'] = pos_array\n",
        "x_test_tfidf['n_adjs'] = pos_test"
      ],
      "metadata": {
        "id": "lYy9IyZkga7s"
      },
      "execution_count": null,
      "outputs": []
    },
    {
      "cell_type": "code",
      "source": [
        "x_train_tfidf['n_words'] = word_train\n",
        "x_test_tfidf['n_words'] = word_test"
      ],
      "metadata": {
        "id": "43ts4B3w2h-2"
      },
      "execution_count": null,
      "outputs": []
    },
    {
      "cell_type": "code",
      "source": [
        "x_train_tfidf['n_sentences'] = sent_train\n",
        "x_test_tfidf['n_sentences'] = sent_test"
      ],
      "metadata": {
        "id": "MQlL01Jn3QMY"
      },
      "execution_count": null,
      "outputs": []
    },
    {
      "cell_type": "markdown",
      "source": [
        "Once the data has been added to both DataFrames, we can delete variables `pos_array` and `pos_test`, `word_train` and `word_test` and `sent_train` and `sent_test`. Same happens with arrays `pos_tags`, `x_train` and `x_test`."
      ],
      "metadata": {
        "id": "XeGxm5FQc_yw"
      }
    },
    {
      "cell_type": "code",
      "source": [
        "del word_train\n",
        "del word_test\n",
        "del sent_train\n",
        "del sent_test\n",
        "del pos_array\n",
        "del pos_test\n",
        "del x_train\n",
        "del x_test\n",
        "del pos_tags"
      ],
      "metadata": {
        "id": "LP7cZrF5c_gF"
      },
      "execution_count": null,
      "outputs": []
    },
    {
      "cell_type": "markdown",
      "source": [
        "### Undersampling\n",
        "_Note: In a normal Google Colab session, we cannot execute both, pos tagging + tf-idf with undersampling. This might make the results a bit worse._\n",
        "\n",
        "_For executing the undersampling, just mark the checkbox and run the below cells_."
      ],
      "metadata": {
        "id": "pqOmtKjz3qit"
      }
    },
    {
      "cell_type": "code",
      "source": [
        "exec_undersampling = False #@param {type:\"boolean\"}"
      ],
      "metadata": {
        "id": "3aCQ7jSZNIjb"
      },
      "execution_count": null,
      "outputs": []
    },
    {
      "cell_type": "markdown",
      "source": [
        "-----\n",
        "\n",
        "Let's now try to apply an undersampling technique to compensate the labels."
      ],
      "metadata": {
        "id": "CpuJNCjwNF0h"
      }
    },
    {
      "cell_type": "code",
      "source": [
        "if exec_undersampling: \n",
        "  # ram option selected\n",
        "  x_train_tfidf['label'] = y_train\n",
        "\n",
        "  n = int(22111 * 0.3) # undersampling rate\n",
        "  msk = x_train_tfidf.groupby('label')['label'].transform('size') >= n\n",
        "  x_train_tfidf = pd.concat((x_train_tfidf[msk].groupby('label').sample(n=n), x_train_tfidf[~msk]), ignore_index=True)\n",
        "  print(x_train_tfidf['label'].value_counts())"
      ],
      "metadata": {
        "id": "89rPCEi_3v4u"
      },
      "execution_count": null,
      "outputs": []
    },
    {
      "cell_type": "markdown",
      "source": [
        "Once the mask have been used, we can delete it to save RAM usage.\n",
        "\n",
        "We will also remove the x_train and x_test variables, since they have been properly loaded and vectorized, so we can erase them.\n",
        "\n",
        "Due to a similar reason, we can remove also the x_train_tfidf variable."
      ],
      "metadata": {
        "id": "xyYKVvJvCqUm"
      }
    },
    {
      "cell_type": "code",
      "source": [
        "if exec_undersampling:\n",
        "  # ram option selected\n",
        "  del msk\n",
        "  del x_train\n",
        "  del x_test"
      ],
      "metadata": {
        "id": "ZW8Ru9KxC49q"
      },
      "execution_count": null,
      "outputs": []
    },
    {
      "cell_type": "markdown",
      "metadata": {
        "id": "rCcywkjb5k_r"
      },
      "source": [
        "### Naive Bayes\n",
        "Now, it's time to train our first model, a Naive Bayes model with a Multinomial approach, since it is the most appropriate for our case."
      ]
    },
    {
      "cell_type": "code",
      "execution_count": null,
      "metadata": {
        "id": "YE54AnWspDkL",
        "colab": {
          "base_uri": "https://localhost:8080/"
        },
        "outputId": "92b2d1dc-02ab-4d2c-decc-15c1910d9b6b"
      },
      "outputs": [
        {
          "output_type": "stream",
          "name": "stderr",
          "text": [
            "/usr/local/lib/python3.8/dist-packages/sklearn/utils/validation.py:1688: FutureWarning: Feature names only support names that are all strings. Got feature names with dtypes: ['int', 'str']. An error will be raised in 1.2.\n",
            "  warnings.warn(\n",
            "/usr/local/lib/python3.8/dist-packages/sklearn/utils/validation.py:1688: FutureWarning: Feature names only support names that are all strings. Got feature names with dtypes: ['int', 'str']. An error will be raised in 1.2.\n",
            "  warnings.warn(\n"
          ]
        }
      ],
      "source": [
        "if exec_undersampling:\n",
        "  # ram option selected\n",
        "  mngb_model = MultinomialNB().fit(x_train_tfidf.drop('label', axis=1), x_train_tfidf['label'])\n",
        "else:\n",
        "  mngb_model = MultinomialNB().fit(x_train_tfidf, y_train)\n",
        "preds = mngb_model.predict(x_test_tfidf)"
      ]
    },
    {
      "cell_type": "markdown",
      "source": [
        "It is important to remember the considerable imbalance observed in the data. Due to this reason, we will use f1 score instead of the accuracy for evaluating the model."
      ],
      "metadata": {
        "id": "feZD3lSIznBF"
      }
    },
    {
      "cell_type": "code",
      "execution_count": null,
      "metadata": {
        "colab": {
          "base_uri": "https://localhost:8080/",
          "height": 296
        },
        "id": "HSlcB7m_pDkL",
        "outputId": "4f24d4ff-54e2-4050-9763-59936f8d6d89"
      },
      "outputs": [
        {
          "output_type": "stream",
          "name": "stdout",
          "text": [
            "Accuracy for the model: 0.6182632757939123\n"
          ]
        },
        {
          "output_type": "display_data",
          "data": {
            "text/plain": [
              "<Figure size 432x288 with 2 Axes>"
            ],
            "image/png": "[encoded data removed]"
          },
          "metadata": {
            "needs_background": "light"
          }
        }
      ],
      "source": [
        "print(f'Accuracy for the model: {f1_score(y_test, preds, average=\"micro\")}')\n",
        "cm = confusion_matrix(y_test, list(preds), labels=mngb_model.classes_)\n",
        "disp = ConfusionMatrixDisplay(confusion_matrix=cm, display_labels=mngb_model.classes_) \n",
        "disp.plot()\n",
        "plt.show()"
      ]
    },
    {
      "cell_type": "markdown",
      "source": [
        "### Decision Tree\n",
        "_**NOTE**: In a normal Google Colab session, we ran out of memory when training the decision tree. For this reason, we cannot execute it with a conventional account. Anyway, we leave the code here._\n",
        "\n",
        "_We have executed it (combined with the undersampling) locally in our machines to check the results and it gets an accuracy of $0.4754$ according to the F1 score used._\n",
        "\n",
        "----\n",
        "\n",
        "As we are asked to apply two models, the second one will be a decision tree. For this model, we will also try to optimize the hyperparametrization aiming to improve the accuracy."
      ],
      "metadata": {
        "id": "FgScdCFwyZSk"
      }
    },
    {
      "cell_type": "code",
      "source": [
        "if exec_undersampling:\n",
        "  # ram option selected\n",
        "  dt_model = DecisionTreeClassifier(min_samples_leaf=1, max_depth=8, criterion='entropy')\n",
        "  dt_model.fit(x_train_tfidf.drop('label', axis=1), x_train_tfidf['label'])\n",
        "else:\n",
        "  dt_model = DecisionTreeClassifier(min_samples_leaf=1, max_depth=8, criterion='entropy')\n",
        "  dt_model.fit(x_train_tfidf, y_train)\n",
        "preds = dt_model.predict(x_test_tfidf)"
      ],
      "metadata": {
        "id": "X1FvhV5Yynng",
        "colab": {
          "base_uri": "https://localhost:8080/"
        },
        "outputId": "eaed47c9-773e-4ad5-de97-f0fc45c044a3"
      },
      "execution_count": null,
      "outputs": [
        {
          "output_type": "stream",
          "name": "stderr",
          "text": [
            "/usr/local/lib/python3.8/dist-packages/sklearn/utils/validation.py:1688: FutureWarning: Feature names only support names that are all strings. Got feature names with dtypes: ['int', 'str']. An error will be raised in 1.2.\n",
            "  warnings.warn(\n"
          ]
        }
      ]
    },
    {
      "cell_type": "markdown",
      "source": [
        "Now, the same as with Naive Bayes classifier, we will check the confusion matrix as well as the f1 score."
      ],
      "metadata": {
        "id": "ZemAUNqiDQKk"
      }
    },
    {
      "cell_type": "code",
      "source": [
        "print(f'Accuracy for the model: {f1_score(y_test, preds, average=\"micro\")}')\n",
        "cm = confusion_matrix(y_test, list(preds), labels=mngb_model.classes_)\n",
        "disp = ConfusionMatrixDisplay(confusion_matrix=cm, display_labels=mngb_model.classes_) \n",
        "disp.plot()\n",
        "plt.show()"
      ],
      "metadata": {
        "id": "ZOuEvUDCDWPo"
      },
      "execution_count": null,
      "outputs": []
    },
    {
      "cell_type": "markdown",
      "source": [
        "### Voting Classifier\n",
        "_**NOTE**: Again, due to the lack of RAM memory in an standard Google Colab account, we couldn't execute this in the notebook. We tested it in our own machines with a Python script._\n",
        "\n",
        "_Locally, we got a $0.4738$ of accuracy with the F1 Score metric when applying the Voting classifier with undersampled data._\n",
        "\n",
        "_Anyway, we indicate here the code for further possible executions with better accounts._\n",
        "\n",
        "----\n",
        "\n",
        "Aiming to improve the accuracy, we will try to apply an ensemling model, specifically a Voting Classifier.\n",
        "\n",
        "First, we add a new model based on K Nearest Neighbors to complete the ensembler model."
      ],
      "metadata": {
        "id": "s9R8vQoSztOv"
      }
    },
    {
      "cell_type": "code",
      "source": [
        "# kNN\n",
        "knn_model = KNeighborsClassifier(n_neighbors=16, weights='uniform', metric='minkowski', p=1)"
      ],
      "metadata": {
        "id": "RCEd4TDYmdru"
      },
      "execution_count": null,
      "outputs": []
    },
    {
      "cell_type": "markdown",
      "source": [
        "Now we build the Voting Classifier model, using the models we have previously used."
      ],
      "metadata": {
        "id": "6erg5LZWnMPb"
      }
    },
    {
      "cell_type": "code",
      "source": [
        "voting_model = VotingClassifier(estimators=[('mnb', mngb_model), ('dt', dt_model)], voting='soft')\n",
        "voting_model.fit(x_train_tfidf.drop('label', axis=1), x_train_tfidf['label'])\n",
        "preds = voting_model.predict(x_test_tfidf)"
      ],
      "metadata": {
        "id": "9XDUyR51z_JO"
      },
      "execution_count": null,
      "outputs": []
    },
    {
      "cell_type": "markdown",
      "source": [
        "Let's check the confusion matrix and its accuracy as we did with the previous models."
      ],
      "metadata": {
        "id": "7H_yrboc00M2"
      }
    },
    {
      "cell_type": "code",
      "source": [
        "print(f'Accuracy for the model: {f1_score(y_test, preds, average=\"micro\")}')\n",
        "cm = confusion_matrix(y_test, list(preds), labels=mngb_model.classes_)\n",
        "disp = ConfusionMatrixDisplay(confusion_matrix=cm, display_labels=mngb_model.classes_) \n",
        "disp.plot()\n",
        "plt.show()"
      ],
      "metadata": {
        "id": "Udd_4Hr60zFx"
      },
      "execution_count": null,
      "outputs": []
    }
  ]
}